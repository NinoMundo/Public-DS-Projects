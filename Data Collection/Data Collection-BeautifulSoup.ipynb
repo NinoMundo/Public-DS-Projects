{
 "cells": [
  {
   "cell_type": "code",
   "execution_count": 1,
   "id": "ca8170f6",
   "metadata": {},
   "outputs": [],
   "source": [
    "import pandas as pd\n",
    "import requests\n",
    "from bs4 import BeautifulSoup"
   ]
  },
  {
   "cell_type": "markdown",
   "id": "8a2584bd",
   "metadata": {},
   "source": [
    "# Request 1"
   ]
  },
  {
   "cell_type": "code",
   "execution_count": 2,
   "id": "51a88d24",
   "metadata": {
    "scrolled": true
   },
   "outputs": [
    {
     "data": {
      "text/plain": [
       "<Response [200]>"
      ]
     },
     "execution_count": 2,
     "metadata": {},
     "output_type": "execute_result"
    }
   ],
   "source": [
    "page = requests.get('https://www.wikipedia.org')\n",
    "page"
   ]
  },
  {
   "cell_type": "markdown",
   "id": "5ef2f481",
   "metadata": {},
   "source": [
    "## Request 1 Results"
   ]
  },
  {
   "cell_type": "code",
   "execution_count": 3,
   "id": "63f17292",
   "metadata": {},
   "outputs": [
    {
     "data": {
      "text/html": [
       "<div>\n",
       "<style scoped>\n",
       "    .dataframe tbody tr th:only-of-type {\n",
       "        vertical-align: middle;\n",
       "    }\n",
       "\n",
       "    .dataframe tbody tr th {\n",
       "        vertical-align: top;\n",
       "    }\n",
       "\n",
       "    .dataframe thead th {\n",
       "        text-align: right;\n",
       "    }\n",
       "</style>\n",
       "<table border=\"1\" class=\"dataframe\">\n",
       "  <thead>\n",
       "    <tr style=\"text-align: right;\">\n",
       "      <th></th>\n",
       "      <th>Tag</th>\n",
       "    </tr>\n",
       "  </thead>\n",
       "  <tbody>\n",
       "    <tr>\n",
       "      <th>0</th>\n",
       "      <td>html</td>\n",
       "    </tr>\n",
       "    <tr>\n",
       "      <th>1</th>\n",
       "      <td>head</td>\n",
       "    </tr>\n",
       "    <tr>\n",
       "      <th>2</th>\n",
       "      <td>meta</td>\n",
       "    </tr>\n",
       "    <tr>\n",
       "      <th>3</th>\n",
       "      <td>title</td>\n",
       "    </tr>\n",
       "    <tr>\n",
       "      <th>4</th>\n",
       "      <td>meta</td>\n",
       "    </tr>\n",
       "    <tr>\n",
       "      <th>...</th>\n",
       "      <td>...</td>\n",
       "    </tr>\n",
       "    <tr>\n",
       "      <th>963</th>\n",
       "      <td>a</td>\n",
       "    </tr>\n",
       "    <tr>\n",
       "      <th>964</th>\n",
       "      <td>script</td>\n",
       "    </tr>\n",
       "    <tr>\n",
       "      <th>965</th>\n",
       "      <td>script</td>\n",
       "    </tr>\n",
       "    <tr>\n",
       "      <th>966</th>\n",
       "      <td>script</td>\n",
       "    </tr>\n",
       "    <tr>\n",
       "      <th>967</th>\n",
       "      <td>style</td>\n",
       "    </tr>\n",
       "  </tbody>\n",
       "</table>\n",
       "<p>968 rows × 1 columns</p>\n",
       "</div>"
      ],
      "text/plain": [
       "        Tag\n",
       "0      html\n",
       "1      head\n",
       "2      meta\n",
       "3     title\n",
       "4      meta\n",
       "..      ...\n",
       "963       a\n",
       "964  script\n",
       "965  script\n",
       "966  script\n",
       "967   style\n",
       "\n",
       "[968 rows x 1 columns]"
      ]
     },
     "execution_count": 3,
     "metadata": {},
     "output_type": "execute_result"
    }
   ],
   "source": [
    "soup = BeautifulSoup(page.text)\n",
    "\n",
    "tags = soup.find_all(True)\n",
    "tags_list = [{'Tag': tag.name} for tag in tags]\n",
    "\n",
    "df = pd.DataFrame(tags_list)\n",
    "df"
   ]
  },
  {
   "cell_type": "markdown",
   "id": "0b99e87e",
   "metadata": {},
   "source": [
    "# Request 2"
   ]
  },
  {
   "cell_type": "code",
   "execution_count": 4,
   "id": "0b63b033",
   "metadata": {},
   "outputs": [
    {
     "data": {
      "text/plain": [
       "<Response [200]>"
      ]
     },
     "execution_count": 4,
     "metadata": {},
     "output_type": "execute_result"
    }
   ],
   "source": [
    "page = requests.get('https://presidentofindia.nic.in/former-presidents.htm')\n",
    "page"
   ]
  },
  {
   "cell_type": "code",
   "execution_count": 65,
   "id": "dcb72169",
   "metadata": {},
   "outputs": [],
   "source": [
    "page = requests.get('https://presidentofindia.nic.in/former-presidents.htm')\n",
    "soup = BeautifulSoup(page.text)"
   ]
  },
  {
   "cell_type": "code",
   "execution_count": 66,
   "id": "f1edd378",
   "metadata": {},
   "outputs": [
    {
     "data": {
      "text/plain": [
       "['Shri Ram Nath Kovind',\n",
       " 'Shri Pranab Mukherjee',\n",
       " 'Smt Pratibha Devisingh Patil',\n",
       " 'DR. A.P.J. Abdul Kalam',\n",
       " 'Shri K. R. Narayanan',\n",
       " 'Dr Shankar Dayal Sharma',\n",
       " 'Shri R Venkataraman',\n",
       " 'Giani Zail Singh',\n",
       " 'Shri Neelam Sanjiva Reddy',\n",
       " 'Dr. Fakhruddin Ali Ahmed',\n",
       " 'Shri Varahagiri Venkata Giri',\n",
       " 'Dr. Zakir Husain',\n",
       " 'Dr. Sarvepalli Radhakrishnan',\n",
       " 'Dr. Rajendra Prasad']"
      ]
     },
     "execution_count": 66,
     "metadata": {},
     "output_type": "execute_result"
    }
   ],
   "source": [
    "prezname = []\n",
    "for i in soup.find_all('div', class_=\"presidentListing\"):\n",
    "    prezname.append(i.h3.text)\n",
    "\n",
    "prezname = [i.split('(')[0].strip() for i in prezname]\n",
    "    \n",
    "prezname"
   ]
  },
  {
   "cell_type": "code",
   "execution_count": 67,
   "id": "9f7a14b1",
   "metadata": {
    "scrolled": false
   },
   "outputs": [
    {
     "data": {
      "text/plain": [
       "['25 July, 2017 to 25 July, 2022',\n",
       " '25 July, 2012 to 25 July, 2017',\n",
       " '25 July, 2007 to 25 July, 2012',\n",
       " '25 July, 2002 to 25 July, 2007',\n",
       " '25 July, 1997 to 25 July, 2002',\n",
       " '25 July, 1992 to 25 July, 1997',\n",
       " '25 July, 1987 to 25 July, 1992',\n",
       " '25 July, 1982 to 25 July, 1987',\n",
       " '25 July, 1977 to 25 July, 1982',\n",
       " '24 August, 1974 to 11 February, 1977',\n",
       " '3 May, 1969 to 20 July, 1969 and 24 August, 1969 to 24 August, 1974',\n",
       " '13 May, 1967 to 3 May, 1969',\n",
       " '13 May, 1962 to 13 May, 1967',\n",
       " '26 January, 1950 to 13 May, 1962']"
      ]
     },
     "execution_count": 67,
     "metadata": {},
     "output_type": "execute_result"
    }
   ],
   "source": [
    "prezterm = []\n",
    "for i in soup.find_all('div', class_=\"presidentListing\"):\n",
    "    prezterm.append(i.p.text)\n",
    "\n",
    "prezterm = [i.split(':')[1].strip() for i in prezterm]\n",
    "    \n",
    "prezterm"
   ]
  },
  {
   "cell_type": "code",
   "execution_count": 68,
   "id": "cbda328b",
   "metadata": {
    "scrolled": true
   },
   "outputs": [
    {
     "name": "stdout",
     "output_type": "stream",
     "text": [
      "14 14\n"
     ]
    }
   ],
   "source": [
    "print(len(prezname),len(prezterm))"
   ]
  },
  {
   "cell_type": "markdown",
   "id": "4a0f0088",
   "metadata": {},
   "source": [
    "## Request 2 Results"
   ]
  },
  {
   "cell_type": "code",
   "execution_count": 9,
   "id": "9fd08184",
   "metadata": {
    "scrolled": true
   },
   "outputs": [
    {
     "data": {
      "text/html": [
       "<div>\n",
       "<style scoped>\n",
       "    .dataframe tbody tr th:only-of-type {\n",
       "        vertical-align: middle;\n",
       "    }\n",
       "\n",
       "    .dataframe tbody tr th {\n",
       "        vertical-align: top;\n",
       "    }\n",
       "\n",
       "    .dataframe thead th {\n",
       "        text-align: right;\n",
       "    }\n",
       "</style>\n",
       "<table border=\"1\" class=\"dataframe\">\n",
       "  <thead>\n",
       "    <tr style=\"text-align: right;\">\n",
       "      <th></th>\n",
       "      <th>Name</th>\n",
       "      <th>Term of Office</th>\n",
       "    </tr>\n",
       "  </thead>\n",
       "  <tbody>\n",
       "    <tr>\n",
       "      <th>0</th>\n",
       "      <td>Shri Ram Nath Kovind</td>\n",
       "      <td>25 July, 2017 to 25 July, 2022</td>\n",
       "    </tr>\n",
       "    <tr>\n",
       "      <th>1</th>\n",
       "      <td>Shri Pranab Mukherjee</td>\n",
       "      <td>25 July, 2012 to 25 July, 2017</td>\n",
       "    </tr>\n",
       "    <tr>\n",
       "      <th>2</th>\n",
       "      <td>Smt Pratibha Devisingh Patil</td>\n",
       "      <td>25 July, 2007 to 25 July, 2012</td>\n",
       "    </tr>\n",
       "    <tr>\n",
       "      <th>3</th>\n",
       "      <td>DR. A.P.J. Abdul Kalam</td>\n",
       "      <td>25 July, 2002 to 25 July, 2007</td>\n",
       "    </tr>\n",
       "    <tr>\n",
       "      <th>4</th>\n",
       "      <td>Shri K. R. Narayanan</td>\n",
       "      <td>25 July, 1997 to 25 July, 2002</td>\n",
       "    </tr>\n",
       "    <tr>\n",
       "      <th>5</th>\n",
       "      <td>Dr Shankar Dayal Sharma</td>\n",
       "      <td>25 July, 1992 to 25 July, 1997</td>\n",
       "    </tr>\n",
       "    <tr>\n",
       "      <th>6</th>\n",
       "      <td>Shri R Venkataraman</td>\n",
       "      <td>25 July, 1987 to 25 July, 1992</td>\n",
       "    </tr>\n",
       "    <tr>\n",
       "      <th>7</th>\n",
       "      <td>Giani Zail Singh</td>\n",
       "      <td>25 July, 1982 to 25 July, 1987</td>\n",
       "    </tr>\n",
       "    <tr>\n",
       "      <th>8</th>\n",
       "      <td>Shri Neelam Sanjiva Reddy</td>\n",
       "      <td>25 July, 1977 to 25 July, 1982</td>\n",
       "    </tr>\n",
       "    <tr>\n",
       "      <th>9</th>\n",
       "      <td>Dr. Fakhruddin Ali Ahmed</td>\n",
       "      <td>24 August, 1974 to 11 February, 1977</td>\n",
       "    </tr>\n",
       "    <tr>\n",
       "      <th>10</th>\n",
       "      <td>Shri Varahagiri Venkata Giri</td>\n",
       "      <td>3 May, 1969 to 20 July, 1969 and 24 August, 19...</td>\n",
       "    </tr>\n",
       "    <tr>\n",
       "      <th>11</th>\n",
       "      <td>Dr. Zakir Husain</td>\n",
       "      <td>13 May, 1967 to 3 May, 1969</td>\n",
       "    </tr>\n",
       "    <tr>\n",
       "      <th>12</th>\n",
       "      <td>Dr. Sarvepalli Radhakrishnan</td>\n",
       "      <td>13 May, 1962 to 13 May, 1967</td>\n",
       "    </tr>\n",
       "    <tr>\n",
       "      <th>13</th>\n",
       "      <td>Dr. Rajendra Prasad</td>\n",
       "      <td>26 January, 1950 to 13 May, 1962</td>\n",
       "    </tr>\n",
       "  </tbody>\n",
       "</table>\n",
       "</div>"
      ],
      "text/plain": [
       "                            Name  \\\n",
       "0           Shri Ram Nath Kovind   \n",
       "1          Shri Pranab Mukherjee   \n",
       "2   Smt Pratibha Devisingh Patil   \n",
       "3         DR. A.P.J. Abdul Kalam   \n",
       "4           Shri K. R. Narayanan   \n",
       "5        Dr Shankar Dayal Sharma   \n",
       "6            Shri R Venkataraman   \n",
       "7               Giani Zail Singh   \n",
       "8      Shri Neelam Sanjiva Reddy   \n",
       "9       Dr. Fakhruddin Ali Ahmed   \n",
       "10  Shri Varahagiri Venkata Giri   \n",
       "11              Dr. Zakir Husain   \n",
       "12  Dr. Sarvepalli Radhakrishnan   \n",
       "13           Dr. Rajendra Prasad   \n",
       "\n",
       "                                       Term of Office  \n",
       "0                      25 July, 2017 to 25 July, 2022  \n",
       "1                      25 July, 2012 to 25 July, 2017  \n",
       "2                      25 July, 2007 to 25 July, 2012  \n",
       "3                      25 July, 2002 to 25 July, 2007  \n",
       "4                      25 July, 1997 to 25 July, 2002  \n",
       "5                      25 July, 1992 to 25 July, 1997  \n",
       "6                      25 July, 1987 to 25 July, 1992  \n",
       "7                      25 July, 1982 to 25 July, 1987  \n",
       "8                      25 July, 1977 to 25 July, 1982  \n",
       "9                24 August, 1974 to 11 February, 1977  \n",
       "10  3 May, 1969 to 20 July, 1969 and 24 August, 19...  \n",
       "11                        13 May, 1967 to 3 May, 1969  \n",
       "12                       13 May, 1962 to 13 May, 1967  \n",
       "13                   26 January, 1950 to 13 May, 1962  "
      ]
     },
     "execution_count": 9,
     "metadata": {},
     "output_type": "execute_result"
    }
   ],
   "source": [
    "df = pd.DataFrame({\"Name\":prezname,\"Term of Office\":prezterm})\n",
    "df"
   ]
  },
  {
   "cell_type": "markdown",
   "id": "fa8ce338",
   "metadata": {},
   "source": [
    "# Request 3"
   ]
  },
  {
   "cell_type": "code",
   "execution_count": 10,
   "id": "0c92230f",
   "metadata": {},
   "outputs": [
    {
     "data": {
      "text/plain": [
       "<Response [200]>"
      ]
     },
     "execution_count": 10,
     "metadata": {},
     "output_type": "execute_result"
    }
   ],
   "source": [
    "page = requests.get('https://www.icc-cricket.com/rankings/mens/team-rankings/odi')\n",
    "page"
   ]
  },
  {
   "cell_type": "code",
   "execution_count": 11,
   "id": "a7ebbd74",
   "metadata": {
    "scrolled": false
   },
   "outputs": [],
   "source": [
    "soup = BeautifulSoup(page.text)"
   ]
  },
  {
   "cell_type": "code",
   "execution_count": 12,
   "id": "44b28520",
   "metadata": {},
   "outputs": [
    {
     "name": "stdout",
     "output_type": "stream",
     "text": [
      "['table']\n"
     ]
    }
   ],
   "source": [
    "for table in soup.find_all('table'):\n",
    "    print(table.get('class'))"
   ]
  },
  {
   "cell_type": "code",
   "execution_count": 13,
   "id": "60133007",
   "metadata": {},
   "outputs": [],
   "source": [
    "table = soup.find('table')\n",
    "rows = table.find_all('tr')"
   ]
  },
  {
   "cell_type": "code",
   "execution_count": 14,
   "id": "84447d0d",
   "metadata": {
    "scrolled": false
   },
   "outputs": [
    {
     "data": {
      "text/html": [
       "<div>\n",
       "<style scoped>\n",
       "    .dataframe tbody tr th:only-of-type {\n",
       "        vertical-align: middle;\n",
       "    }\n",
       "\n",
       "    .dataframe tbody tr th {\n",
       "        vertical-align: top;\n",
       "    }\n",
       "\n",
       "    .dataframe thead th {\n",
       "        text-align: right;\n",
       "    }\n",
       "</style>\n",
       "<table border=\"1\" class=\"dataframe\">\n",
       "  <thead>\n",
       "    <tr style=\"text-align: right;\">\n",
       "      <th></th>\n",
       "      <th>Rank</th>\n",
       "      <th>Team</th>\n",
       "      <th>Matches</th>\n",
       "      <th>Points</th>\n",
       "      <th>Rating</th>\n",
       "    </tr>\n",
       "  </thead>\n",
       "  <tbody>\n",
       "    <tr>\n",
       "      <th>0</th>\n",
       "      <td>1</td>\n",
       "      <td>Australia\\nAUS</td>\n",
       "      <td>23</td>\n",
       "      <td>2,714</td>\n",
       "      <td>118</td>\n",
       "    </tr>\n",
       "    <tr>\n",
       "      <th>1</th>\n",
       "      <td>2</td>\n",
       "      <td>Pakistan\\nPAK</td>\n",
       "      <td>20</td>\n",
       "      <td>2,316</td>\n",
       "      <td>116</td>\n",
       "    </tr>\n",
       "    <tr>\n",
       "      <th>2</th>\n",
       "      <td>3</td>\n",
       "      <td>India\\nIND</td>\n",
       "      <td>33</td>\n",
       "      <td>3,807</td>\n",
       "      <td>115</td>\n",
       "    </tr>\n",
       "    <tr>\n",
       "      <th>3</th>\n",
       "      <td>4</td>\n",
       "      <td>New Zealand\\nNZ</td>\n",
       "      <td>27</td>\n",
       "      <td>2,806</td>\n",
       "      <td>104</td>\n",
       "    </tr>\n",
       "    <tr>\n",
       "      <th>4</th>\n",
       "      <td>5</td>\n",
       "      <td>England\\nENG</td>\n",
       "      <td>24</td>\n",
       "      <td>2,426</td>\n",
       "      <td>101</td>\n",
       "    </tr>\n",
       "    <tr>\n",
       "      <th>5</th>\n",
       "      <td>6</td>\n",
       "      <td>South Africa\\nSA</td>\n",
       "      <td>19</td>\n",
       "      <td>1,910</td>\n",
       "      <td>101</td>\n",
       "    </tr>\n",
       "    <tr>\n",
       "      <th>6</th>\n",
       "      <td>7</td>\n",
       "      <td>Bangladesh\\nBAN</td>\n",
       "      <td>25</td>\n",
       "      <td>2,451</td>\n",
       "      <td>98</td>\n",
       "    </tr>\n",
       "    <tr>\n",
       "      <th>7</th>\n",
       "      <td>8</td>\n",
       "      <td>Afghanistan\\nAFG</td>\n",
       "      <td>10</td>\n",
       "      <td>878</td>\n",
       "      <td>88</td>\n",
       "    </tr>\n",
       "    <tr>\n",
       "      <th>8</th>\n",
       "      <td>9</td>\n",
       "      <td>Sri Lanka\\nSL</td>\n",
       "      <td>21</td>\n",
       "      <td>1,682</td>\n",
       "      <td>80</td>\n",
       "    </tr>\n",
       "    <tr>\n",
       "      <th>9</th>\n",
       "      <td>10</td>\n",
       "      <td>West Indies\\nWI</td>\n",
       "      <td>25</td>\n",
       "      <td>1,797</td>\n",
       "      <td>72</td>\n",
       "    </tr>\n",
       "  </tbody>\n",
       "</table>\n",
       "</div>"
      ],
      "text/plain": [
       "  Rank              Team Matches Points Rating\n",
       "0    1    Australia\\nAUS      23  2,714    118\n",
       "1    2     Pakistan\\nPAK      20  2,316    116\n",
       "2    3        India\\nIND      33  3,807    115\n",
       "3    4   New Zealand\\nNZ      27  2,806    104\n",
       "4    5      England\\nENG      24  2,426    101\n",
       "5    6  South Africa\\nSA      19  1,910    101\n",
       "6    7   Bangladesh\\nBAN      25  2,451     98\n",
       "7    8  Afghanistan\\nAFG      10    878     88\n",
       "8    9     Sri Lanka\\nSL      21  1,682     80\n",
       "9   10   West Indies\\nWI      25  1,797     72"
      ]
     },
     "execution_count": 14,
     "metadata": {},
     "output_type": "execute_result"
    }
   ],
   "source": [
    "teams_data = []\n",
    "for row in rows[1:11]:\n",
    "    cells = row.find_all('td')\n",
    "    rank = cells[0].text.strip()\n",
    "    team = cells[1].text.strip()\n",
    "    matches = cells[2].text.strip()\n",
    "    points = cells[3].text.strip()\n",
    "    rating = cells[4].text.strip()\n",
    "    teams_data.append({'Rank': rank, 'Team': team, 'Matches': matches, 'Points': points, 'Rating': rating})\n",
    "\n",
    "teams_df = pd.DataFrame(teams_data)\n",
    "teams_df"
   ]
  },
  {
   "cell_type": "markdown",
   "id": "d094e41c",
   "metadata": {},
   "source": [
    "## Request 3a Results"
   ]
  },
  {
   "cell_type": "code",
   "execution_count": 15,
   "id": "495244df",
   "metadata": {
    "scrolled": false
   },
   "outputs": [
    {
     "data": {
      "text/html": [
       "<div>\n",
       "<style scoped>\n",
       "    .dataframe tbody tr th:only-of-type {\n",
       "        vertical-align: middle;\n",
       "    }\n",
       "\n",
       "    .dataframe tbody tr th {\n",
       "        vertical-align: top;\n",
       "    }\n",
       "\n",
       "    .dataframe thead th {\n",
       "        text-align: right;\n",
       "    }\n",
       "</style>\n",
       "<table border=\"1\" class=\"dataframe\">\n",
       "  <thead>\n",
       "    <tr style=\"text-align: right;\">\n",
       "      <th></th>\n",
       "      <th>Rank</th>\n",
       "      <th>Team</th>\n",
       "      <th>Matches</th>\n",
       "      <th>Points</th>\n",
       "      <th>Rating</th>\n",
       "    </tr>\n",
       "  </thead>\n",
       "  <tbody>\n",
       "    <tr>\n",
       "      <th>0</th>\n",
       "      <td>1</td>\n",
       "      <td>Australia</td>\n",
       "      <td>23</td>\n",
       "      <td>2,714</td>\n",
       "      <td>118</td>\n",
       "    </tr>\n",
       "    <tr>\n",
       "      <th>1</th>\n",
       "      <td>2</td>\n",
       "      <td>Pakistan</td>\n",
       "      <td>20</td>\n",
       "      <td>2,316</td>\n",
       "      <td>116</td>\n",
       "    </tr>\n",
       "    <tr>\n",
       "      <th>2</th>\n",
       "      <td>3</td>\n",
       "      <td>India</td>\n",
       "      <td>33</td>\n",
       "      <td>3,807</td>\n",
       "      <td>115</td>\n",
       "    </tr>\n",
       "    <tr>\n",
       "      <th>3</th>\n",
       "      <td>4</td>\n",
       "      <td>New Zealand</td>\n",
       "      <td>27</td>\n",
       "      <td>2,806</td>\n",
       "      <td>104</td>\n",
       "    </tr>\n",
       "    <tr>\n",
       "      <th>4</th>\n",
       "      <td>5</td>\n",
       "      <td>England</td>\n",
       "      <td>24</td>\n",
       "      <td>2,426</td>\n",
       "      <td>101</td>\n",
       "    </tr>\n",
       "    <tr>\n",
       "      <th>5</th>\n",
       "      <td>6</td>\n",
       "      <td>South Africa</td>\n",
       "      <td>19</td>\n",
       "      <td>1,910</td>\n",
       "      <td>101</td>\n",
       "    </tr>\n",
       "    <tr>\n",
       "      <th>6</th>\n",
       "      <td>7</td>\n",
       "      <td>Bangladesh</td>\n",
       "      <td>25</td>\n",
       "      <td>2,451</td>\n",
       "      <td>98</td>\n",
       "    </tr>\n",
       "    <tr>\n",
       "      <th>7</th>\n",
       "      <td>8</td>\n",
       "      <td>Afghanistan</td>\n",
       "      <td>10</td>\n",
       "      <td>878</td>\n",
       "      <td>88</td>\n",
       "    </tr>\n",
       "    <tr>\n",
       "      <th>8</th>\n",
       "      <td>9</td>\n",
       "      <td>Sri Lanka</td>\n",
       "      <td>21</td>\n",
       "      <td>1,682</td>\n",
       "      <td>80</td>\n",
       "    </tr>\n",
       "    <tr>\n",
       "      <th>9</th>\n",
       "      <td>10</td>\n",
       "      <td>West Indies</td>\n",
       "      <td>25</td>\n",
       "      <td>1,797</td>\n",
       "      <td>72</td>\n",
       "    </tr>\n",
       "  </tbody>\n",
       "</table>\n",
       "</div>"
      ],
      "text/plain": [
       "  Rank          Team Matches Points Rating\n",
       "0    1     Australia      23  2,714    118\n",
       "1    2      Pakistan      20  2,316    116\n",
       "2    3         India      33  3,807    115\n",
       "3    4   New Zealand      27  2,806    104\n",
       "4    5       England      24  2,426    101\n",
       "5    6  South Africa      19  1,910    101\n",
       "6    7    Bangladesh      25  2,451     98\n",
       "7    8   Afghanistan      10    878     88\n",
       "8    9     Sri Lanka      21  1,682     80\n",
       "9   10   West Indies      25  1,797     72"
      ]
     },
     "execution_count": 15,
     "metadata": {},
     "output_type": "execute_result"
    }
   ],
   "source": [
    "teams_df['Team'] = teams_df['Team'].str.split('\\\\n').str[0]\n",
    "teams_df"
   ]
  },
  {
   "cell_type": "markdown",
   "id": "132f67d7",
   "metadata": {},
   "source": [
    "## Request 3b Begin"
   ]
  },
  {
   "cell_type": "code",
   "execution_count": 16,
   "id": "33c4f28d",
   "metadata": {},
   "outputs": [
    {
     "data": {
      "text/plain": [
       "<Response [200]>"
      ]
     },
     "execution_count": 16,
     "metadata": {},
     "output_type": "execute_result"
    }
   ],
   "source": [
    "page = requests.get('https://www.icc-cricket.com/rankings/mens/player-rankings/odi/batting')\n",
    "page"
   ]
  },
  {
   "cell_type": "code",
   "execution_count": 17,
   "id": "12ab57ec",
   "metadata": {
    "scrolled": false
   },
   "outputs": [],
   "source": [
    "soup = BeautifulSoup(page.text)"
   ]
  },
  {
   "cell_type": "code",
   "execution_count": 18,
   "id": "7e0f6cc2",
   "metadata": {},
   "outputs": [
    {
     "name": "stdout",
     "output_type": "stream",
     "text": [
      "['table', 'rankings-table']\n"
     ]
    }
   ],
   "source": [
    "for table in soup.find_all('table'):\n",
    "    print(table.get('class'))"
   ]
  },
  {
   "cell_type": "code",
   "execution_count": 19,
   "id": "4f170bc9",
   "metadata": {},
   "outputs": [],
   "source": [
    "table = soup.find('table', {'class': 'rankings-table'})\n",
    "rows = table.find_all('tr')"
   ]
  },
  {
   "cell_type": "markdown",
   "id": "e2c21864",
   "metadata": {},
   "source": [
    "## Request 3b Results"
   ]
  },
  {
   "cell_type": "code",
   "execution_count": 20,
   "id": "be72debf",
   "metadata": {
    "scrolled": false
   },
   "outputs": [
    {
     "data": {
      "text/html": [
       "<div>\n",
       "<style scoped>\n",
       "    .dataframe tbody tr th:only-of-type {\n",
       "        vertical-align: middle;\n",
       "    }\n",
       "\n",
       "    .dataframe tbody tr th {\n",
       "        vertical-align: top;\n",
       "    }\n",
       "\n",
       "    .dataframe thead th {\n",
       "        text-align: right;\n",
       "    }\n",
       "</style>\n",
       "<table border=\"1\" class=\"dataframe\">\n",
       "  <thead>\n",
       "    <tr style=\"text-align: right;\">\n",
       "      <th></th>\n",
       "      <th>Rank</th>\n",
       "      <th>Name</th>\n",
       "      <th>Team</th>\n",
       "      <th>Rating</th>\n",
       "    </tr>\n",
       "  </thead>\n",
       "  <tbody>\n",
       "    <tr>\n",
       "      <th>0</th>\n",
       "      <td>1</td>\n",
       "      <td>Babar Azam</td>\n",
       "      <td>PAK</td>\n",
       "      <td>886</td>\n",
       "    </tr>\n",
       "    <tr>\n",
       "      <th>1</th>\n",
       "      <td>2</td>\n",
       "      <td>Rassie van der Dussen</td>\n",
       "      <td>SA</td>\n",
       "      <td>777</td>\n",
       "    </tr>\n",
       "    <tr>\n",
       "      <th>2</th>\n",
       "      <td>3</td>\n",
       "      <td>Fakhar Zaman</td>\n",
       "      <td>PAK</td>\n",
       "      <td>755</td>\n",
       "    </tr>\n",
       "    <tr>\n",
       "      <th>3</th>\n",
       "      <td>4</td>\n",
       "      <td>Imam-ul-Haq</td>\n",
       "      <td>PAK</td>\n",
       "      <td>745</td>\n",
       "    </tr>\n",
       "    <tr>\n",
       "      <th>4</th>\n",
       "      <td>5</td>\n",
       "      <td>Shubman Gill</td>\n",
       "      <td>IND</td>\n",
       "      <td>738</td>\n",
       "    </tr>\n",
       "    <tr>\n",
       "      <th>5</th>\n",
       "      <td>6</td>\n",
       "      <td>David Warner</td>\n",
       "      <td>AUS</td>\n",
       "      <td>726</td>\n",
       "    </tr>\n",
       "    <tr>\n",
       "      <th>6</th>\n",
       "      <td>7</td>\n",
       "      <td>Harry Tector</td>\n",
       "      <td>IRE</td>\n",
       "      <td>722</td>\n",
       "    </tr>\n",
       "    <tr>\n",
       "      <th>7</th>\n",
       "      <td>8</td>\n",
       "      <td>Virat Kohli</td>\n",
       "      <td>IND</td>\n",
       "      <td>719</td>\n",
       "    </tr>\n",
       "    <tr>\n",
       "      <th>8</th>\n",
       "      <td>9</td>\n",
       "      <td>Quinton de Kock</td>\n",
       "      <td>SA</td>\n",
       "      <td>718</td>\n",
       "    </tr>\n",
       "    <tr>\n",
       "      <th>9</th>\n",
       "      <td>10</td>\n",
       "      <td>Rohit Sharma</td>\n",
       "      <td>IND</td>\n",
       "      <td>707</td>\n",
       "    </tr>\n",
       "  </tbody>\n",
       "</table>\n",
       "</div>"
      ],
      "text/plain": [
       "  Rank                   Name Team Rating\n",
       "0    1             Babar Azam  PAK    886\n",
       "1    2  Rassie van der Dussen   SA    777\n",
       "2    3           Fakhar Zaman  PAK    755\n",
       "3    4            Imam-ul-Haq  PAK    745\n",
       "4    5           Shubman Gill  IND    738\n",
       "5    6           David Warner  AUS    726\n",
       "6    7           Harry Tector  IRE    722\n",
       "7    8            Virat Kohli  IND    719\n",
       "8    9        Quinton de Kock   SA    718\n",
       "9   10           Rohit Sharma  IND    707"
      ]
     },
     "execution_count": 20,
     "metadata": {},
     "output_type": "execute_result"
    }
   ],
   "source": [
    "batting_data = []\n",
    "for row in rows[1:11]:\n",
    "    cells = row.find_all('td')\n",
    "    rank = cells[0].text.strip()\n",
    "    name = cells[1].text.strip()\n",
    "    team = cells[2].text.strip()\n",
    "    rating = cells[3].text.strip()\n",
    "    batting_data.append({'Rank': rank, 'Name': name, 'Team': team, 'Rating': rating})\n",
    "\n",
    "batting_df = pd.DataFrame(batting_data)\n",
    "batting_df['Rank'] = batting_df['Rank'].str.split('\\\\n').str[0]\n",
    "\n",
    "batting_df"
   ]
  },
  {
   "cell_type": "markdown",
   "id": "fb855a69",
   "metadata": {},
   "source": [
    "## Request 3c Begin"
   ]
  },
  {
   "cell_type": "code",
   "execution_count": 21,
   "id": "932bc642",
   "metadata": {
    "scrolled": true
   },
   "outputs": [
    {
     "data": {
      "text/plain": [
       "<Response [200]>"
      ]
     },
     "execution_count": 21,
     "metadata": {},
     "output_type": "execute_result"
    }
   ],
   "source": [
    "page = requests.get('https://www.icc-cricket.com/rankings/mens/player-rankings/odi/bowling')\n",
    "page"
   ]
  },
  {
   "cell_type": "code",
   "execution_count": 22,
   "id": "9e14afdd",
   "metadata": {},
   "outputs": [],
   "source": [
    "soup = BeautifulSoup(page.text)"
   ]
  },
  {
   "cell_type": "code",
   "execution_count": 23,
   "id": "93675605",
   "metadata": {},
   "outputs": [
    {
     "name": "stdout",
     "output_type": "stream",
     "text": [
      "['table', 'rankings-table']\n"
     ]
    }
   ],
   "source": [
    "for table in soup.find_all('table'):\n",
    "    print(table.get('class'))"
   ]
  },
  {
   "cell_type": "code",
   "execution_count": 24,
   "id": "b5c7be15",
   "metadata": {},
   "outputs": [],
   "source": [
    "table = soup.find('table', {'class': 'rankings-table'})\n",
    "rows = table.find_all('tr')"
   ]
  },
  {
   "cell_type": "markdown",
   "id": "e4df21e6",
   "metadata": {},
   "source": [
    "## Request 3c Results"
   ]
  },
  {
   "cell_type": "code",
   "execution_count": 25,
   "id": "300269c4",
   "metadata": {
    "scrolled": true
   },
   "outputs": [
    {
     "data": {
      "text/html": [
       "<div>\n",
       "<style scoped>\n",
       "    .dataframe tbody tr th:only-of-type {\n",
       "        vertical-align: middle;\n",
       "    }\n",
       "\n",
       "    .dataframe tbody tr th {\n",
       "        vertical-align: top;\n",
       "    }\n",
       "\n",
       "    .dataframe thead th {\n",
       "        text-align: right;\n",
       "    }\n",
       "</style>\n",
       "<table border=\"1\" class=\"dataframe\">\n",
       "  <thead>\n",
       "    <tr style=\"text-align: right;\">\n",
       "      <th></th>\n",
       "      <th>Rank</th>\n",
       "      <th>Name</th>\n",
       "      <th>Team</th>\n",
       "      <th>Rating</th>\n",
       "    </tr>\n",
       "  </thead>\n",
       "  <tbody>\n",
       "    <tr>\n",
       "      <th>0</th>\n",
       "      <td>1</td>\n",
       "      <td>Josh Hazlewood</td>\n",
       "      <td>AUS</td>\n",
       "      <td>705</td>\n",
       "    </tr>\n",
       "    <tr>\n",
       "      <th>1</th>\n",
       "      <td>2</td>\n",
       "      <td>Mohammed Siraj</td>\n",
       "      <td>IND</td>\n",
       "      <td>691</td>\n",
       "    </tr>\n",
       "    <tr>\n",
       "      <th>2</th>\n",
       "      <td>3</td>\n",
       "      <td>Mitchell Starc</td>\n",
       "      <td>AUS</td>\n",
       "      <td>686</td>\n",
       "    </tr>\n",
       "    <tr>\n",
       "      <th>3</th>\n",
       "      <td>4</td>\n",
       "      <td>Matt Henry</td>\n",
       "      <td>NZ</td>\n",
       "      <td>667</td>\n",
       "    </tr>\n",
       "    <tr>\n",
       "      <th>4</th>\n",
       "      <td>5</td>\n",
       "      <td>Trent Boult</td>\n",
       "      <td>NZ</td>\n",
       "      <td>660</td>\n",
       "    </tr>\n",
       "    <tr>\n",
       "      <th>5</th>\n",
       "      <td>6</td>\n",
       "      <td>Rashid Khan</td>\n",
       "      <td>AFG</td>\n",
       "      <td>659</td>\n",
       "    </tr>\n",
       "    <tr>\n",
       "      <th>6</th>\n",
       "      <td>7</td>\n",
       "      <td>Adam Zampa</td>\n",
       "      <td>AUS</td>\n",
       "      <td>652</td>\n",
       "    </tr>\n",
       "    <tr>\n",
       "      <th>7</th>\n",
       "      <td>8</td>\n",
       "      <td>Mujeeb Ur Rahman</td>\n",
       "      <td>AFG</td>\n",
       "      <td>637</td>\n",
       "    </tr>\n",
       "    <tr>\n",
       "      <th>8</th>\n",
       "      <td>9</td>\n",
       "      <td>Mohammad Nabi</td>\n",
       "      <td>AFG</td>\n",
       "      <td>631</td>\n",
       "    </tr>\n",
       "    <tr>\n",
       "      <th>9</th>\n",
       "      <td>10</td>\n",
       "      <td>Shaheen Afridi</td>\n",
       "      <td>PAK</td>\n",
       "      <td>630</td>\n",
       "    </tr>\n",
       "  </tbody>\n",
       "</table>\n",
       "</div>"
      ],
      "text/plain": [
       "  Rank              Name Team Rating\n",
       "0    1    Josh Hazlewood  AUS    705\n",
       "1    2    Mohammed Siraj  IND    691\n",
       "2    3    Mitchell Starc  AUS    686\n",
       "3    4        Matt Henry   NZ    667\n",
       "4    5       Trent Boult   NZ    660\n",
       "5    6       Rashid Khan  AFG    659\n",
       "6    7        Adam Zampa  AUS    652\n",
       "7    8  Mujeeb Ur Rahman  AFG    637\n",
       "8    9     Mohammad Nabi  AFG    631\n",
       "9   10    Shaheen Afridi  PAK    630"
      ]
     },
     "execution_count": 25,
     "metadata": {},
     "output_type": "execute_result"
    }
   ],
   "source": [
    "bowlers_data = []\n",
    "for row in rows[1:11]:\n",
    "    cells = row.find_all('td')\n",
    "    rank = cells[0].text.strip()\n",
    "    name = cells[1].text.strip()\n",
    "    team = cells[2].text.strip()\n",
    "    rating = cells[3].text.strip()\n",
    "    bowlers_data.append({'Rank': rank, 'Name': name, 'Team': team, 'Rating': rating})\n",
    "    \n",
    "bowlers_df = pd.DataFrame(bowlers_data)\n",
    "bowlers_df['Rank'] = bowlers_df['Rank'].str.split('\\\\n').str[0]\n",
    "\n",
    "bowlers_df"
   ]
  },
  {
   "cell_type": "markdown",
   "id": "ca349012",
   "metadata": {},
   "source": [
    "# Request 4"
   ]
  },
  {
   "cell_type": "markdown",
   "id": "410767ac",
   "metadata": {},
   "source": [
    "## Request 4a Begin"
   ]
  },
  {
   "cell_type": "code",
   "execution_count": 26,
   "id": "0875c507",
   "metadata": {},
   "outputs": [
    {
     "data": {
      "text/plain": [
       "<Response [200]>"
      ]
     },
     "execution_count": 26,
     "metadata": {},
     "output_type": "execute_result"
    }
   ],
   "source": [
    "page = requests.get('https://www.icc-cricket.com/rankings/womens/team-rankings/odi')\n",
    "page"
   ]
  },
  {
   "cell_type": "code",
   "execution_count": 27,
   "id": "e37e7cd6",
   "metadata": {},
   "outputs": [],
   "source": [
    "soup = BeautifulSoup(page.text)"
   ]
  },
  {
   "cell_type": "code",
   "execution_count": 28,
   "id": "97529a16",
   "metadata": {},
   "outputs": [
    {
     "name": "stdout",
     "output_type": "stream",
     "text": [
      "['table']\n"
     ]
    }
   ],
   "source": [
    "for table in soup.find_all('table'):\n",
    "    print(table.get('class'))"
   ]
  },
  {
   "cell_type": "code",
   "execution_count": 29,
   "id": "e22e4f75",
   "metadata": {},
   "outputs": [],
   "source": [
    "table = soup.find('table')\n",
    "rows = table.find_all('tr')"
   ]
  },
  {
   "cell_type": "markdown",
   "id": "2334b562",
   "metadata": {},
   "source": [
    "## Request 4a Result"
   ]
  },
  {
   "cell_type": "code",
   "execution_count": 30,
   "id": "5676d444",
   "metadata": {
    "scrolled": true
   },
   "outputs": [
    {
     "data": {
      "text/html": [
       "<div>\n",
       "<style scoped>\n",
       "    .dataframe tbody tr th:only-of-type {\n",
       "        vertical-align: middle;\n",
       "    }\n",
       "\n",
       "    .dataframe tbody tr th {\n",
       "        vertical-align: top;\n",
       "    }\n",
       "\n",
       "    .dataframe thead th {\n",
       "        text-align: right;\n",
       "    }\n",
       "</style>\n",
       "<table border=\"1\" class=\"dataframe\">\n",
       "  <thead>\n",
       "    <tr style=\"text-align: right;\">\n",
       "      <th></th>\n",
       "      <th>Rank</th>\n",
       "      <th>Team</th>\n",
       "      <th>Matches</th>\n",
       "      <th>Points</th>\n",
       "      <th>Rating</th>\n",
       "    </tr>\n",
       "  </thead>\n",
       "  <tbody>\n",
       "    <tr>\n",
       "      <th>0</th>\n",
       "      <td>1</td>\n",
       "      <td>Australia</td>\n",
       "      <td>21</td>\n",
       "      <td>3,603</td>\n",
       "      <td>172</td>\n",
       "    </tr>\n",
       "    <tr>\n",
       "      <th>1</th>\n",
       "      <td>2</td>\n",
       "      <td>England</td>\n",
       "      <td>28</td>\n",
       "      <td>3,342</td>\n",
       "      <td>119</td>\n",
       "    </tr>\n",
       "    <tr>\n",
       "      <th>2</th>\n",
       "      <td>3</td>\n",
       "      <td>South Africa</td>\n",
       "      <td>26</td>\n",
       "      <td>3,098</td>\n",
       "      <td>119</td>\n",
       "    </tr>\n",
       "    <tr>\n",
       "      <th>3</th>\n",
       "      <td>4</td>\n",
       "      <td>India</td>\n",
       "      <td>27</td>\n",
       "      <td>2,820</td>\n",
       "      <td>104</td>\n",
       "    </tr>\n",
       "    <tr>\n",
       "      <th>4</th>\n",
       "      <td>5</td>\n",
       "      <td>New Zealand</td>\n",
       "      <td>25</td>\n",
       "      <td>2,553</td>\n",
       "      <td>102</td>\n",
       "    </tr>\n",
       "    <tr>\n",
       "      <th>5</th>\n",
       "      <td>6</td>\n",
       "      <td>West Indies</td>\n",
       "      <td>27</td>\n",
       "      <td>2,535</td>\n",
       "      <td>94</td>\n",
       "    </tr>\n",
       "    <tr>\n",
       "      <th>6</th>\n",
       "      <td>7</td>\n",
       "      <td>Thailand</td>\n",
       "      <td>11</td>\n",
       "      <td>821</td>\n",
       "      <td>75</td>\n",
       "    </tr>\n",
       "    <tr>\n",
       "      <th>7</th>\n",
       "      <td>8</td>\n",
       "      <td>Bangladesh</td>\n",
       "      <td>14</td>\n",
       "      <td>977</td>\n",
       "      <td>70</td>\n",
       "    </tr>\n",
       "    <tr>\n",
       "      <th>8</th>\n",
       "      <td>9</td>\n",
       "      <td>Pakistan</td>\n",
       "      <td>27</td>\n",
       "      <td>1,678</td>\n",
       "      <td>62</td>\n",
       "    </tr>\n",
       "    <tr>\n",
       "      <th>9</th>\n",
       "      <td>10</td>\n",
       "      <td>Sri Lanka</td>\n",
       "      <td>9</td>\n",
       "      <td>479</td>\n",
       "      <td>53</td>\n",
       "    </tr>\n",
       "  </tbody>\n",
       "</table>\n",
       "</div>"
      ],
      "text/plain": [
       "  Rank          Team Matches Points Rating\n",
       "0    1     Australia      21  3,603    172\n",
       "1    2       England      28  3,342    119\n",
       "2    3  South Africa      26  3,098    119\n",
       "3    4         India      27  2,820    104\n",
       "4    5   New Zealand      25  2,553    102\n",
       "5    6   West Indies      27  2,535     94\n",
       "6    7      Thailand      11    821     75\n",
       "7    8    Bangladesh      14    977     70\n",
       "8    9      Pakistan      27  1,678     62\n",
       "9   10     Sri Lanka       9    479     53"
      ]
     },
     "execution_count": 30,
     "metadata": {},
     "output_type": "execute_result"
    }
   ],
   "source": [
    "wteam_data = []\n",
    "for row in rows[1:11]:\n",
    "    cells = row.find_all('td')\n",
    "    rank = cells[0].text.strip()\n",
    "    team = cells[1].text.strip()\n",
    "    matches = cells[2].text.strip()\n",
    "    points = cells[3].text.strip()\n",
    "    rating = cells[4].text.strip()\n",
    "    wteam_data.append({'Rank': rank, 'Team': team, 'Matches': matches, 'Points': points, 'Rating': rating})\n",
    "    \n",
    "wteam_df = pd.DataFrame(wteam_data)\n",
    "\n",
    "wteam_df['Team'] = wteam_df['Team'].str.split('\\\\n').str[0]\n",
    "\n",
    "wteam_df"
   ]
  },
  {
   "cell_type": "markdown",
   "id": "b446f341",
   "metadata": {},
   "source": [
    "## Request 4b Begin"
   ]
  },
  {
   "cell_type": "code",
   "execution_count": 31,
   "id": "0cdcbfd7",
   "metadata": {},
   "outputs": [
    {
     "data": {
      "text/plain": [
       "<Response [200]>"
      ]
     },
     "execution_count": 31,
     "metadata": {},
     "output_type": "execute_result"
    }
   ],
   "source": [
    "page = requests.get('https://www.icc-cricket.com/rankings/womens/player-rankings/odi/batting')\n",
    "page"
   ]
  },
  {
   "cell_type": "code",
   "execution_count": 32,
   "id": "91cc107a",
   "metadata": {},
   "outputs": [],
   "source": [
    "soup = BeautifulSoup(page.text)"
   ]
  },
  {
   "cell_type": "code",
   "execution_count": 33,
   "id": "cc16ac55",
   "metadata": {},
   "outputs": [
    {
     "name": "stdout",
     "output_type": "stream",
     "text": [
      "['table', 'rankings-table']\n"
     ]
    }
   ],
   "source": [
    "for table in soup.find_all('table'):\n",
    "    print(table.get('class'))"
   ]
  },
  {
   "cell_type": "code",
   "execution_count": 34,
   "id": "7ae06413",
   "metadata": {},
   "outputs": [],
   "source": [
    "table = soup.find('table', {'class': 'rankings-table'})\n",
    "rows = table.find_all('tr')"
   ]
  },
  {
   "cell_type": "markdown",
   "id": "db188102",
   "metadata": {},
   "source": [
    "## Request 4b Result"
   ]
  },
  {
   "cell_type": "code",
   "execution_count": 35,
   "id": "8a5a1e47",
   "metadata": {},
   "outputs": [
    {
     "data": {
      "text/html": [
       "<div>\n",
       "<style scoped>\n",
       "    .dataframe tbody tr th:only-of-type {\n",
       "        vertical-align: middle;\n",
       "    }\n",
       "\n",
       "    .dataframe tbody tr th {\n",
       "        vertical-align: top;\n",
       "    }\n",
       "\n",
       "    .dataframe thead th {\n",
       "        text-align: right;\n",
       "    }\n",
       "</style>\n",
       "<table border=\"1\" class=\"dataframe\">\n",
       "  <thead>\n",
       "    <tr style=\"text-align: right;\">\n",
       "      <th></th>\n",
       "      <th>Rank</th>\n",
       "      <th>Name</th>\n",
       "      <th>Team</th>\n",
       "      <th>Rating</th>\n",
       "    </tr>\n",
       "  </thead>\n",
       "  <tbody>\n",
       "    <tr>\n",
       "      <th>0</th>\n",
       "      <td>1</td>\n",
       "      <td>Beth Mooney</td>\n",
       "      <td>AUS</td>\n",
       "      <td>754</td>\n",
       "    </tr>\n",
       "    <tr>\n",
       "      <th>1</th>\n",
       "      <td>2</td>\n",
       "      <td>Laura Wolvaardt</td>\n",
       "      <td>SA</td>\n",
       "      <td>732</td>\n",
       "    </tr>\n",
       "    <tr>\n",
       "      <th>2</th>\n",
       "      <td>3</td>\n",
       "      <td>Natalie Sciver</td>\n",
       "      <td>ENG</td>\n",
       "      <td>731</td>\n",
       "    </tr>\n",
       "    <tr>\n",
       "      <th>3</th>\n",
       "      <td>4</td>\n",
       "      <td>Meg Lanning</td>\n",
       "      <td>AUS</td>\n",
       "      <td>717</td>\n",
       "    </tr>\n",
       "    <tr>\n",
       "      <th>4</th>\n",
       "      <td>5</td>\n",
       "      <td>Harmanpreet Kaur</td>\n",
       "      <td>IND</td>\n",
       "      <td>716</td>\n",
       "    </tr>\n",
       "    <tr>\n",
       "      <th>5</th>\n",
       "      <td>6</td>\n",
       "      <td>Smriti Mandhana</td>\n",
       "      <td>IND</td>\n",
       "      <td>714</td>\n",
       "    </tr>\n",
       "    <tr>\n",
       "      <th>6</th>\n",
       "      <td>7</td>\n",
       "      <td>Chamari Athapaththu</td>\n",
       "      <td>SL</td>\n",
       "      <td>673</td>\n",
       "    </tr>\n",
       "    <tr>\n",
       "      <th>7</th>\n",
       "      <td>8</td>\n",
       "      <td>Ellyse Perry</td>\n",
       "      <td>AUS</td>\n",
       "      <td>626</td>\n",
       "    </tr>\n",
       "    <tr>\n",
       "      <th>8</th>\n",
       "      <td>9</td>\n",
       "      <td>Tammy Beaumont</td>\n",
       "      <td>ENG</td>\n",
       "      <td>595</td>\n",
       "    </tr>\n",
       "    <tr>\n",
       "      <th>9</th>\n",
       "      <td>10</td>\n",
       "      <td>Stafanie Taylor</td>\n",
       "      <td>WI</td>\n",
       "      <td>588</td>\n",
       "    </tr>\n",
       "  </tbody>\n",
       "</table>\n",
       "</div>"
      ],
      "text/plain": [
       "  Rank                 Name Team Rating\n",
       "0    1          Beth Mooney  AUS    754\n",
       "1    2      Laura Wolvaardt   SA    732\n",
       "2    3       Natalie Sciver  ENG    731\n",
       "3    4          Meg Lanning  AUS    717\n",
       "4    5     Harmanpreet Kaur  IND    716\n",
       "5    6      Smriti Mandhana  IND    714\n",
       "6    7  Chamari Athapaththu   SL    673\n",
       "7    8         Ellyse Perry  AUS    626\n",
       "8    9       Tammy Beaumont  ENG    595\n",
       "9   10      Stafanie Taylor   WI    588"
      ]
     },
     "execution_count": 35,
     "metadata": {},
     "output_type": "execute_result"
    }
   ],
   "source": [
    "batting_data = []\n",
    "for row in rows[1:11]:\n",
    "    cells = row.find_all('td')\n",
    "    rank = cells[0].text.strip()\n",
    "    name = cells[1].text.strip()\n",
    "    team = cells[2].text.strip()\n",
    "    rating = cells[3].text.strip()\n",
    "    batting_data.append({'Rank': rank, 'Name': name, 'Team': team, 'Rating': rating})\n",
    "\n",
    "batting_df = pd.DataFrame(batting_data)\n",
    "\n",
    "batting_df['Rank'] = batting_df['Rank'].str.split('\\\\n').str[0]\n",
    "\n",
    "batting_df"
   ]
  },
  {
   "cell_type": "markdown",
   "id": "e137cac0",
   "metadata": {},
   "source": [
    "## Request 4c Begin"
   ]
  },
  {
   "cell_type": "code",
   "execution_count": 36,
   "id": "77283ced",
   "metadata": {},
   "outputs": [
    {
     "data": {
      "text/plain": [
       "<Response [200]>"
      ]
     },
     "execution_count": 36,
     "metadata": {},
     "output_type": "execute_result"
    }
   ],
   "source": [
    "page = requests.get('https://www.icc-cricket.com/rankings/womens/player-rankings/odi/all-rounder')\n",
    "page"
   ]
  },
  {
   "cell_type": "code",
   "execution_count": 37,
   "id": "6db193b6",
   "metadata": {},
   "outputs": [],
   "source": [
    "soup = BeautifulSoup(page.text)"
   ]
  },
  {
   "cell_type": "code",
   "execution_count": 38,
   "id": "4435f370",
   "metadata": {},
   "outputs": [
    {
     "name": "stdout",
     "output_type": "stream",
     "text": [
      "['table', 'rankings-table']\n"
     ]
    }
   ],
   "source": [
    "for table in soup.find_all('table'):\n",
    "    print(table.get('class'))"
   ]
  },
  {
   "cell_type": "code",
   "execution_count": 39,
   "id": "a57679c5",
   "metadata": {},
   "outputs": [],
   "source": [
    "table = soup.find('table', {'class': 'table'})\n",
    "rows = table.find_all('tr')"
   ]
  },
  {
   "cell_type": "markdown",
   "id": "d66d20f8",
   "metadata": {},
   "source": [
    "## Request 4c Result"
   ]
  },
  {
   "cell_type": "code",
   "execution_count": 40,
   "id": "3ea75f46",
   "metadata": {},
   "outputs": [
    {
     "data": {
      "text/html": [
       "<div>\n",
       "<style scoped>\n",
       "    .dataframe tbody tr th:only-of-type {\n",
       "        vertical-align: middle;\n",
       "    }\n",
       "\n",
       "    .dataframe tbody tr th {\n",
       "        vertical-align: top;\n",
       "    }\n",
       "\n",
       "    .dataframe thead th {\n",
       "        text-align: right;\n",
       "    }\n",
       "</style>\n",
       "<table border=\"1\" class=\"dataframe\">\n",
       "  <thead>\n",
       "    <tr style=\"text-align: right;\">\n",
       "      <th></th>\n",
       "      <th>Rank</th>\n",
       "      <th>Name</th>\n",
       "      <th>Team</th>\n",
       "      <th>Rating</th>\n",
       "    </tr>\n",
       "  </thead>\n",
       "  <tbody>\n",
       "    <tr>\n",
       "      <th>0</th>\n",
       "      <td>1</td>\n",
       "      <td>Josh Hazlewood</td>\n",
       "      <td>AUS</td>\n",
       "      <td>705</td>\n",
       "    </tr>\n",
       "    <tr>\n",
       "      <th>1</th>\n",
       "      <td>2</td>\n",
       "      <td>Mohammed Siraj</td>\n",
       "      <td>IND</td>\n",
       "      <td>691</td>\n",
       "    </tr>\n",
       "    <tr>\n",
       "      <th>2</th>\n",
       "      <td>3</td>\n",
       "      <td>Mitchell Starc</td>\n",
       "      <td>AUS</td>\n",
       "      <td>686</td>\n",
       "    </tr>\n",
       "    <tr>\n",
       "      <th>3</th>\n",
       "      <td>4</td>\n",
       "      <td>Matt Henry</td>\n",
       "      <td>NZ</td>\n",
       "      <td>667</td>\n",
       "    </tr>\n",
       "    <tr>\n",
       "      <th>4</th>\n",
       "      <td>5</td>\n",
       "      <td>Trent Boult</td>\n",
       "      <td>NZ</td>\n",
       "      <td>660</td>\n",
       "    </tr>\n",
       "    <tr>\n",
       "      <th>5</th>\n",
       "      <td>6</td>\n",
       "      <td>Rashid Khan</td>\n",
       "      <td>AFG</td>\n",
       "      <td>659</td>\n",
       "    </tr>\n",
       "    <tr>\n",
       "      <th>6</th>\n",
       "      <td>7</td>\n",
       "      <td>Adam Zampa</td>\n",
       "      <td>AUS</td>\n",
       "      <td>652</td>\n",
       "    </tr>\n",
       "    <tr>\n",
       "      <th>7</th>\n",
       "      <td>8</td>\n",
       "      <td>Mujeeb Ur Rahman</td>\n",
       "      <td>AFG</td>\n",
       "      <td>637</td>\n",
       "    </tr>\n",
       "    <tr>\n",
       "      <th>8</th>\n",
       "      <td>9</td>\n",
       "      <td>Mohammad Nabi</td>\n",
       "      <td>AFG</td>\n",
       "      <td>631</td>\n",
       "    </tr>\n",
       "    <tr>\n",
       "      <th>9</th>\n",
       "      <td>10</td>\n",
       "      <td>Shaheen Afridi</td>\n",
       "      <td>PAK</td>\n",
       "      <td>630</td>\n",
       "    </tr>\n",
       "  </tbody>\n",
       "</table>\n",
       "</div>"
      ],
      "text/plain": [
       "  Rank              Name Team Rating\n",
       "0    1    Josh Hazlewood  AUS    705\n",
       "1    2    Mohammed Siraj  IND    691\n",
       "2    3    Mitchell Starc  AUS    686\n",
       "3    4        Matt Henry   NZ    667\n",
       "4    5       Trent Boult   NZ    660\n",
       "5    6       Rashid Khan  AFG    659\n",
       "6    7        Adam Zampa  AUS    652\n",
       "7    8  Mujeeb Ur Rahman  AFG    637\n",
       "8    9     Mohammad Nabi  AFG    631\n",
       "9   10    Shaheen Afridi  PAK    630"
      ]
     },
     "execution_count": 40,
     "metadata": {},
     "output_type": "execute_result"
    }
   ],
   "source": [
    "allround_data = []\n",
    "for row in rows[1:11]:\n",
    "    cells = row.find_all('td')\n",
    "    rank = cells[0].get_text(strip=True, separator=\"[\")[0]\n",
    "    name = cells[1].text.strip()\n",
    "    team = cells[2].text.strip()\n",
    "    rating = cells[3].text.strip()\n",
    "    allround_data.append({'Rank': rank, 'Name': name, 'Team': team, 'Rating': rating})\n",
    "    \n",
    "allround_df = pd.DataFrame(bowlers_data)\n",
    "\n",
    "allround_df['Rank'] = allround_df['Rank'].str.split('\\\\n').str[0]\n",
    "\n",
    "allround_df"
   ]
  },
  {
   "cell_type": "markdown",
   "id": "5b72abc8",
   "metadata": {},
   "source": [
    "# Request 5"
   ]
  },
  {
   "cell_type": "code",
   "execution_count": 41,
   "id": "6fd21bae",
   "metadata": {},
   "outputs": [
    {
     "data": {
      "text/plain": [
       "<Response [200]>"
      ]
     },
     "execution_count": 41,
     "metadata": {},
     "output_type": "execute_result"
    }
   ],
   "source": [
    "page = requests.get('https://www.cnbc.com/world/?region=world')\n",
    "page"
   ]
  },
  {
   "cell_type": "code",
   "execution_count": 42,
   "id": "6f0b866e",
   "metadata": {},
   "outputs": [],
   "source": [
    "soup = BeautifulSoup(page.text)"
   ]
  },
  {
   "cell_type": "code",
   "execution_count": 43,
   "id": "fe9f9594",
   "metadata": {},
   "outputs": [],
   "source": [
    "headline = []\n",
    "\n",
    "for i in soup.find_all('a', class_=\"LatestNews-headline\"):\n",
    "    headline.append(i.text)"
   ]
  },
  {
   "cell_type": "code",
   "execution_count": 44,
   "id": "5721dc3d",
   "metadata": {},
   "outputs": [],
   "source": [
    "link = []\n",
    "\n",
    "for i in soup.find_all('a', class_=\"LatestNews-headline\"):\n",
    "    link.append(i['href'])"
   ]
  },
  {
   "cell_type": "code",
   "execution_count": 45,
   "id": "463082f9",
   "metadata": {},
   "outputs": [],
   "source": [
    "from datetime import datetime\n",
    "\n",
    "date = []\n",
    "\n",
    "for i in soup.find_all('a', class_=\"LatestNews-headline\"):\n",
    "    date.append(datetime.strptime(i['href'][21:31], '%Y/%m/%d'))"
   ]
  },
  {
   "cell_type": "markdown",
   "id": "97ac00a4",
   "metadata": {},
   "source": [
    "# Request 5 Result"
   ]
  },
  {
   "cell_type": "code",
   "execution_count": 46,
   "id": "2bc24c03",
   "metadata": {},
   "outputs": [
    {
     "data": {
      "text/html": [
       "<div>\n",
       "<style scoped>\n",
       "    .dataframe tbody tr th:only-of-type {\n",
       "        vertical-align: middle;\n",
       "    }\n",
       "\n",
       "    .dataframe tbody tr th {\n",
       "        vertical-align: top;\n",
       "    }\n",
       "\n",
       "    .dataframe thead th {\n",
       "        text-align: right;\n",
       "    }\n",
       "</style>\n",
       "<table border=\"1\" class=\"dataframe\">\n",
       "  <thead>\n",
       "    <tr style=\"text-align: right;\">\n",
       "      <th></th>\n",
       "      <th>Headline</th>\n",
       "      <th>Date</th>\n",
       "      <th>News Link</th>\n",
       "    </tr>\n",
       "  </thead>\n",
       "  <tbody>\n",
       "    <tr>\n",
       "      <th>0</th>\n",
       "      <td>These are the cheapest tech stocks in the S&amp;P 500</td>\n",
       "      <td>2023-05-28</td>\n",
       "      <td>https://www.cnbc.com/2023/05/28/these-are-the-...</td>\n",
       "    </tr>\n",
       "    <tr>\n",
       "      <th>1</th>\n",
       "      <td>Turkey votes in runoff election after candidat...</td>\n",
       "      <td>2023-05-28</td>\n",
       "      <td>https://www.cnbc.com/2023/05/28/turkey-electio...</td>\n",
       "    </tr>\n",
       "    <tr>\n",
       "      <th>2</th>\n",
       "      <td>White House and Republicans reach a tentative ...</td>\n",
       "      <td>2023-05-27</td>\n",
       "      <td>https://www.cnbc.com/2023/05/27/white-house-an...</td>\n",
       "    </tr>\n",
       "    <tr>\n",
       "      <th>3</th>\n",
       "      <td>State Farm to stop accepting homeowners insura...</td>\n",
       "      <td>2023-05-27</td>\n",
       "      <td>https://www.cnbc.com/2023/05/27/state-farm-to-...</td>\n",
       "    </tr>\n",
       "    <tr>\n",
       "      <th>4</th>\n",
       "      <td>How Janie Deegan built Janie's Life-Changing B...</td>\n",
       "      <td>2023-05-27</td>\n",
       "      <td>https://www.cnbc.com/2023/05/27/how-janie-deeg...</td>\n",
       "    </tr>\n",
       "    <tr>\n",
       "      <th>5</th>\n",
       "      <td>Top 10 cheapest places in the U.S. to buy a be...</td>\n",
       "      <td>2023-05-27</td>\n",
       "      <td>https://www.cnbc.com/2023/05/27/cheapest-place...</td>\n",
       "    </tr>\n",
       "    <tr>\n",
       "      <th>6</th>\n",
       "      <td>Mark Cuban calls Elon Musk’s Twitter algorithm...</td>\n",
       "      <td>2023-05-27</td>\n",
       "      <td>https://www.cnbc.com/2023/05/27/mark-cuban-say...</td>\n",
       "    </tr>\n",
       "    <tr>\n",
       "      <th>7</th>\n",
       "      <td>3 investing tips as the federal debt ceiling '...</td>\n",
       "      <td>2023-05-27</td>\n",
       "      <td>https://www.cnbc.com/2023/05/27/how-to-invest-...</td>\n",
       "    </tr>\n",
       "    <tr>\n",
       "      <th>8</th>\n",
       "      <td>Microsoft keyboard users are ‘devastated’ afte...</td>\n",
       "      <td>2023-05-27</td>\n",
       "      <td>https://www.cnbc.com/2023/05/27/microsoft-keyb...</td>\n",
       "    </tr>\n",
       "    <tr>\n",
       "      <th>9</th>\n",
       "      <td>Steve Adcock: The 3 'stupidest' myths I've hea...</td>\n",
       "      <td>2023-05-27</td>\n",
       "      <td>https://www.cnbc.com/2023/05/27/steve-adcock-t...</td>\n",
       "    </tr>\n",
       "    <tr>\n",
       "      <th>10</th>\n",
       "      <td>Chip stocks AMD and Nvidia are among the most ...</td>\n",
       "      <td>2023-05-27</td>\n",
       "      <td>https://www.cnbc.com/2023/05/27/chip-stocks-am...</td>\n",
       "    </tr>\n",
       "    <tr>\n",
       "      <th>11</th>\n",
       "      <td>Analysts are pounding the table for these must...</td>\n",
       "      <td>2023-05-27</td>\n",
       "      <td>https://www.cnbc.com/2023/05/27/analysts-are-p...</td>\n",
       "    </tr>\n",
       "    <tr>\n",
       "      <th>12</th>\n",
       "      <td>Lower-income consumers pay for wealthy's credi...</td>\n",
       "      <td>2023-05-27</td>\n",
       "      <td>https://www.cnbc.com/2023/05/27/lower-income-a...</td>\n",
       "    </tr>\n",
       "    <tr>\n",
       "      <th>13</th>\n",
       "      <td>How Mastercard has outperformed Visa</td>\n",
       "      <td>2023-05-27</td>\n",
       "      <td>https://www.cnbc.com/2023/05/27/how-mastercard...</td>\n",
       "    </tr>\n",
       "    <tr>\n",
       "      <th>14</th>\n",
       "      <td>Why commercial real estate firms are joining t...</td>\n",
       "      <td>2023-05-27</td>\n",
       "      <td>https://www.cnbc.com/2023/05/27/commercial-rea...</td>\n",
       "    </tr>\n",
       "    <tr>\n",
       "      <th>15</th>\n",
       "      <td>Japan stocks are on fire this year. Why the ra...</td>\n",
       "      <td>2023-05-27</td>\n",
       "      <td>https://www.cnbc.com/2023/05/27/japan-stocks-a...</td>\n",
       "    </tr>\n",
       "    <tr>\n",
       "      <th>16</th>\n",
       "      <td>Marvell Technology shares surge after earnings...</td>\n",
       "      <td>2023-05-26</td>\n",
       "      <td>https://www.cnbc.com/2023/05/26/marvell-techno...</td>\n",
       "    </tr>\n",
       "    <tr>\n",
       "      <th>17</th>\n",
       "      <td>The tech trade is back, driven by A.I. craze a...</td>\n",
       "      <td>2023-05-26</td>\n",
       "      <td>https://www.cnbc.com/2023/05/26/tech-stocks-ar...</td>\n",
       "    </tr>\n",
       "    <tr>\n",
       "      <th>18</th>\n",
       "      <td>Next week hints at only short-lived debt deal ...</td>\n",
       "      <td>2023-05-26</td>\n",
       "      <td>https://www.cnbc.com/2023/05/26/next-week-hint...</td>\n",
       "    </tr>\n",
       "    <tr>\n",
       "      <th>19</th>\n",
       "      <td>Treasury says it could run out of money June 5...</td>\n",
       "      <td>2023-05-26</td>\n",
       "      <td>https://www.cnbc.com/2023/05/26/treasury-says-...</td>\n",
       "    </tr>\n",
       "    <tr>\n",
       "      <th>20</th>\n",
       "      <td>Disney rips DeSantis bid to disqualify judge i...</td>\n",
       "      <td>2023-05-26</td>\n",
       "      <td>https://www.cnbc.com/2023/05/26/disney-rips-de...</td>\n",
       "    </tr>\n",
       "    <tr>\n",
       "      <th>21</th>\n",
       "      <td>Why the pause on student loan payments has bee...</td>\n",
       "      <td>2023-05-26</td>\n",
       "      <td>https://www.cnbc.com/2023/05/26/the-pause-on-s...</td>\n",
       "    </tr>\n",
       "    <tr>\n",
       "      <th>22</th>\n",
       "      <td>Facebook-Giphy sale shows how fear of regulato...</td>\n",
       "      <td>2023-05-26</td>\n",
       "      <td>https://www.cnbc.com/2023/05/26/facebook-giphy...</td>\n",
       "    </tr>\n",
       "    <tr>\n",
       "      <th>23</th>\n",
       "      <td>JPMorgan Chase cut about 500 jobs this week, i...</td>\n",
       "      <td>2023-05-26</td>\n",
       "      <td>https://www.cnbc.com/2023/05/26/job-cuts-jpmor...</td>\n",
       "    </tr>\n",
       "    <tr>\n",
       "      <th>24</th>\n",
       "      <td>Is there a 'right' age for kids to be on socia...</td>\n",
       "      <td>2023-05-26</td>\n",
       "      <td>https://www.cnbc.com/2023/05/26/the-right-age-...</td>\n",
       "    </tr>\n",
       "    <tr>\n",
       "      <th>25</th>\n",
       "      <td>A.I. excitement leads to a winning week for Nv...</td>\n",
       "      <td>2023-05-26</td>\n",
       "      <td>https://www.cnbc.com/2023/05/26/ai-excitement-...</td>\n",
       "    </tr>\n",
       "    <tr>\n",
       "      <th>26</th>\n",
       "      <td>Nvidia shares jumped 25% this week — and got c...</td>\n",
       "      <td>2023-05-26</td>\n",
       "      <td>https://www.cnbc.com/2023/05/26/nvidia-shares-...</td>\n",
       "    </tr>\n",
       "    <tr>\n",
       "      <th>27</th>\n",
       "      <td>Needham says this stock plays the 'almost perf...</td>\n",
       "      <td>2023-05-26</td>\n",
       "      <td>https://www.cnbc.com/2023/05/26/needham-this-s...</td>\n",
       "    </tr>\n",
       "    <tr>\n",
       "      <th>28</th>\n",
       "      <td>AI is the latest buzzword in tech—but before i...</td>\n",
       "      <td>2023-05-26</td>\n",
       "      <td>https://www.cnbc.com/2023/05/26/chatgpt-machin...</td>\n",
       "    </tr>\n",
       "    <tr>\n",
       "      <th>29</th>\n",
       "      <td>Taylor Swift to Metallica: Top 10 most in-dema...</td>\n",
       "      <td>2023-05-26</td>\n",
       "      <td>https://www.cnbc.com/2023/05/26/taylor-swift-b...</td>\n",
       "    </tr>\n",
       "  </tbody>\n",
       "</table>\n",
       "</div>"
      ],
      "text/plain": [
       "                                             Headline       Date  \\\n",
       "0   These are the cheapest tech stocks in the S&P 500 2023-05-28   \n",
       "1   Turkey votes in runoff election after candidat... 2023-05-28   \n",
       "2   White House and Republicans reach a tentative ... 2023-05-27   \n",
       "3   State Farm to stop accepting homeowners insura... 2023-05-27   \n",
       "4   How Janie Deegan built Janie's Life-Changing B... 2023-05-27   \n",
       "5   Top 10 cheapest places in the U.S. to buy a be... 2023-05-27   \n",
       "6   Mark Cuban calls Elon Musk’s Twitter algorithm... 2023-05-27   \n",
       "7   3 investing tips as the federal debt ceiling '... 2023-05-27   \n",
       "8   Microsoft keyboard users are ‘devastated’ afte... 2023-05-27   \n",
       "9   Steve Adcock: The 3 'stupidest' myths I've hea... 2023-05-27   \n",
       "10  Chip stocks AMD and Nvidia are among the most ... 2023-05-27   \n",
       "11  Analysts are pounding the table for these must... 2023-05-27   \n",
       "12  Lower-income consumers pay for wealthy's credi... 2023-05-27   \n",
       "13               How Mastercard has outperformed Visa 2023-05-27   \n",
       "14  Why commercial real estate firms are joining t... 2023-05-27   \n",
       "15  Japan stocks are on fire this year. Why the ra... 2023-05-27   \n",
       "16  Marvell Technology shares surge after earnings... 2023-05-26   \n",
       "17  The tech trade is back, driven by A.I. craze a... 2023-05-26   \n",
       "18  Next week hints at only short-lived debt deal ... 2023-05-26   \n",
       "19  Treasury says it could run out of money June 5... 2023-05-26   \n",
       "20  Disney rips DeSantis bid to disqualify judge i... 2023-05-26   \n",
       "21  Why the pause on student loan payments has bee... 2023-05-26   \n",
       "22  Facebook-Giphy sale shows how fear of regulato... 2023-05-26   \n",
       "23  JPMorgan Chase cut about 500 jobs this week, i... 2023-05-26   \n",
       "24  Is there a 'right' age for kids to be on socia... 2023-05-26   \n",
       "25  A.I. excitement leads to a winning week for Nv... 2023-05-26   \n",
       "26  Nvidia shares jumped 25% this week — and got c... 2023-05-26   \n",
       "27  Needham says this stock plays the 'almost perf... 2023-05-26   \n",
       "28  AI is the latest buzzword in tech—but before i... 2023-05-26   \n",
       "29  Taylor Swift to Metallica: Top 10 most in-dema... 2023-05-26   \n",
       "\n",
       "                                            News Link  \n",
       "0   https://www.cnbc.com/2023/05/28/these-are-the-...  \n",
       "1   https://www.cnbc.com/2023/05/28/turkey-electio...  \n",
       "2   https://www.cnbc.com/2023/05/27/white-house-an...  \n",
       "3   https://www.cnbc.com/2023/05/27/state-farm-to-...  \n",
       "4   https://www.cnbc.com/2023/05/27/how-janie-deeg...  \n",
       "5   https://www.cnbc.com/2023/05/27/cheapest-place...  \n",
       "6   https://www.cnbc.com/2023/05/27/mark-cuban-say...  \n",
       "7   https://www.cnbc.com/2023/05/27/how-to-invest-...  \n",
       "8   https://www.cnbc.com/2023/05/27/microsoft-keyb...  \n",
       "9   https://www.cnbc.com/2023/05/27/steve-adcock-t...  \n",
       "10  https://www.cnbc.com/2023/05/27/chip-stocks-am...  \n",
       "11  https://www.cnbc.com/2023/05/27/analysts-are-p...  \n",
       "12  https://www.cnbc.com/2023/05/27/lower-income-a...  \n",
       "13  https://www.cnbc.com/2023/05/27/how-mastercard...  \n",
       "14  https://www.cnbc.com/2023/05/27/commercial-rea...  \n",
       "15  https://www.cnbc.com/2023/05/27/japan-stocks-a...  \n",
       "16  https://www.cnbc.com/2023/05/26/marvell-techno...  \n",
       "17  https://www.cnbc.com/2023/05/26/tech-stocks-ar...  \n",
       "18  https://www.cnbc.com/2023/05/26/next-week-hint...  \n",
       "19  https://www.cnbc.com/2023/05/26/treasury-says-...  \n",
       "20  https://www.cnbc.com/2023/05/26/disney-rips-de...  \n",
       "21  https://www.cnbc.com/2023/05/26/the-pause-on-s...  \n",
       "22  https://www.cnbc.com/2023/05/26/facebook-giphy...  \n",
       "23  https://www.cnbc.com/2023/05/26/job-cuts-jpmor...  \n",
       "24  https://www.cnbc.com/2023/05/26/the-right-age-...  \n",
       "25  https://www.cnbc.com/2023/05/26/ai-excitement-...  \n",
       "26  https://www.cnbc.com/2023/05/26/nvidia-shares-...  \n",
       "27  https://www.cnbc.com/2023/05/26/needham-this-s...  \n",
       "28  https://www.cnbc.com/2023/05/26/chatgpt-machin...  \n",
       "29  https://www.cnbc.com/2023/05/26/taylor-swift-b...  "
      ]
     },
     "execution_count": 46,
     "metadata": {},
     "output_type": "execute_result"
    }
   ],
   "source": [
    "df = pd.DataFrame(({'Headline': headline, 'Date':date, 'News Link': link}))\n",
    "df"
   ]
  },
  {
   "cell_type": "markdown",
   "id": "081d88f1",
   "metadata": {},
   "source": [
    "# Request 6"
   ]
  },
  {
   "cell_type": "code",
   "execution_count": 47,
   "id": "3014d3c7",
   "metadata": {},
   "outputs": [
    {
     "data": {
      "text/plain": [
       "<Response [200]>"
      ]
     },
     "execution_count": 47,
     "metadata": {},
     "output_type": "execute_result"
    }
   ],
   "source": [
    "page = requests.get('https://www.journals.elsevier.com/artificial-intelligence/most-downloaded-articles')\n",
    "page"
   ]
  },
  {
   "cell_type": "code",
   "execution_count": 48,
   "id": "97c10b6a",
   "metadata": {},
   "outputs": [],
   "source": [
    "soup = BeautifulSoup(page.content)"
   ]
  },
  {
   "cell_type": "code",
   "execution_count": 49,
   "id": "75a60c92",
   "metadata": {},
   "outputs": [],
   "source": [
    "for table in soup.find_all('table'):\n",
    "    print(table.get('class'))"
   ]
  },
  {
   "cell_type": "code",
   "execution_count": 50,
   "id": "4732cb64",
   "metadata": {},
   "outputs": [],
   "source": [
    "table = soup.find('BasicTable-table')\n",
    "table"
   ]
  },
  {
   "cell_type": "code",
   "execution_count": 51,
   "id": "e8953fdd",
   "metadata": {
    "scrolled": true
   },
   "outputs": [],
   "source": [
    "title = []\n",
    "\n",
    "for i in soup.find_all('h2', class_='sc-1qrq3sd-1 gRGSUS sc-1nmom32-0 sc-1nmom32-1 btcbYu goSKRg'):\n",
    "    title.append(i.text)"
   ]
  },
  {
   "cell_type": "code",
   "execution_count": 52,
   "id": "8031dfb3",
   "metadata": {},
   "outputs": [],
   "source": [
    "author = []\n",
    "\n",
    "for i in soup.find_all('span', class_='sc-1w3fpd7-0 dnCnAO'):\n",
    "    author.append(i.text)"
   ]
  },
  {
   "cell_type": "code",
   "execution_count": 53,
   "id": "af0a290c",
   "metadata": {},
   "outputs": [],
   "source": [
    "date = []\n",
    "\n",
    "for i in soup.find_all('span', class_='sc-1thf9ly-2 dvggWt'):\n",
    "    date.append(i.text)"
   ]
  },
  {
   "cell_type": "code",
   "execution_count": 69,
   "id": "23c261b5",
   "metadata": {},
   "outputs": [],
   "source": [
    "url = []\n",
    "\n",
    "for i in soup.find_all('a', class_='sc-5smygv-0 fIXTHm'):\n",
    "    url.append(i['href'])"
   ]
  },
  {
   "cell_type": "code",
   "execution_count": 70,
   "id": "d3ff4547",
   "metadata": {},
   "outputs": [
    {
     "name": "stdout",
     "output_type": "stream",
     "text": [
      "24 24 24 0\n"
     ]
    }
   ],
   "source": [
    "print(len(title),len(author),len(date),len(url))"
   ]
  },
  {
   "cell_type": "markdown",
   "id": "127cfad9",
   "metadata": {},
   "source": [
    "# Request 6 Results"
   ]
  },
  {
   "cell_type": "code",
   "execution_count": 56,
   "id": "d2066813",
   "metadata": {},
   "outputs": [
    {
     "data": {
      "text/html": [
       "<div>\n",
       "<style scoped>\n",
       "    .dataframe tbody tr th:only-of-type {\n",
       "        vertical-align: middle;\n",
       "    }\n",
       "\n",
       "    .dataframe tbody tr th {\n",
       "        vertical-align: top;\n",
       "    }\n",
       "\n",
       "    .dataframe thead th {\n",
       "        text-align: right;\n",
       "    }\n",
       "</style>\n",
       "<table border=\"1\" class=\"dataframe\">\n",
       "  <thead>\n",
       "    <tr style=\"text-align: right;\">\n",
       "      <th></th>\n",
       "      <th>Paper Title</th>\n",
       "      <th>Authors</th>\n",
       "      <th>Published Date</th>\n",
       "      <th>Paper URL</th>\n",
       "    </tr>\n",
       "  </thead>\n",
       "  <tbody>\n",
       "    <tr>\n",
       "      <th>0</th>\n",
       "      <td>Reward is enough</td>\n",
       "      <td>David Silver, Satinder Singh, Doina Precup, Ri...</td>\n",
       "      <td>October 2021</td>\n",
       "      <td>https://www.sciencedirect.com/science/article/...</td>\n",
       "    </tr>\n",
       "    <tr>\n",
       "      <th>1</th>\n",
       "      <td>Explanation in artificial intelligence: Insigh...</td>\n",
       "      <td>Tim Miller</td>\n",
       "      <td>February 2019</td>\n",
       "      <td>https://www.sciencedirect.com/science/article/...</td>\n",
       "    </tr>\n",
       "    <tr>\n",
       "      <th>2</th>\n",
       "      <td>Creativity and artificial intelligence</td>\n",
       "      <td>Margaret A. Boden</td>\n",
       "      <td>August 1998</td>\n",
       "      <td>https://www.sciencedirect.com/science/article/...</td>\n",
       "    </tr>\n",
       "    <tr>\n",
       "      <th>3</th>\n",
       "      <td>Conflict-based search for optimal multi-agent ...</td>\n",
       "      <td>Guni Sharon, Roni Stern, Ariel Felner, Nathan ...</td>\n",
       "      <td>February 2015</td>\n",
       "      <td>https://www.sciencedirect.com/science/article/...</td>\n",
       "    </tr>\n",
       "    <tr>\n",
       "      <th>4</th>\n",
       "      <td>Knowledge graphs as tools for explainable mach...</td>\n",
       "      <td>Ilaria Tiddi, Stefan Schlobach</td>\n",
       "      <td>January 2022</td>\n",
       "      <td>https://www.sciencedirect.com/science/article/...</td>\n",
       "    </tr>\n",
       "    <tr>\n",
       "      <th>5</th>\n",
       "      <td>Law and logic: A review from an argumentation ...</td>\n",
       "      <td>Henry Prakken, Giovanni Sartor</td>\n",
       "      <td>October 2015</td>\n",
       "      <td>https://www.sciencedirect.com/science/article/...</td>\n",
       "    </tr>\n",
       "    <tr>\n",
       "      <th>6</th>\n",
       "      <td>Between MDPs and semi-MDPs: A framework for te...</td>\n",
       "      <td>Richard S. Sutton, Doina Precup, Satinder Singh</td>\n",
       "      <td>August 1999</td>\n",
       "      <td>https://www.sciencedirect.com/science/article/...</td>\n",
       "    </tr>\n",
       "    <tr>\n",
       "      <th>7</th>\n",
       "      <td>Explaining individual predictions when feature...</td>\n",
       "      <td>Kjersti Aas, Martin Jullum, Anders Løland</td>\n",
       "      <td>September 2021</td>\n",
       "      <td>https://www.sciencedirect.com/science/article/...</td>\n",
       "    </tr>\n",
       "    <tr>\n",
       "      <th>8</th>\n",
       "      <td>Multiple object tracking: A literature review</td>\n",
       "      <td>Wenhan Luo, Junliang Xing and 4 more</td>\n",
       "      <td>April 2021</td>\n",
       "      <td>https://www.sciencedirect.com/science/article/...</td>\n",
       "    </tr>\n",
       "    <tr>\n",
       "      <th>9</th>\n",
       "      <td>A survey of inverse reinforcement learning: Ch...</td>\n",
       "      <td>Saurabh Arora, Prashant Doshi</td>\n",
       "      <td>August 2021</td>\n",
       "      <td>https://www.sciencedirect.com/science/article/...</td>\n",
       "    </tr>\n",
       "    <tr>\n",
       "      <th>10</th>\n",
       "      <td>Evaluating XAI: A comparison of rule-based and...</td>\n",
       "      <td>Jasper van der Waa, Elisabeth Nieuwburg, Anita...</td>\n",
       "      <td>February 2021</td>\n",
       "      <td>https://www.sciencedirect.com/science/article/...</td>\n",
       "    </tr>\n",
       "    <tr>\n",
       "      <th>11</th>\n",
       "      <td>Explainable AI tools for legal reasoning about...</td>\n",
       "      <td>Joe Collenette, Katie Atkinson, Trevor Bench-C...</td>\n",
       "      <td>April 2023</td>\n",
       "      <td>https://www.sciencedirect.com/science/article/...</td>\n",
       "    </tr>\n",
       "    <tr>\n",
       "      <th>12</th>\n",
       "      <td>Hard choices in artificial intelligence</td>\n",
       "      <td>Roel Dobbe, Thomas Krendl Gilbert, Yonatan Mintz</td>\n",
       "      <td>November 2021</td>\n",
       "      <td>https://www.sciencedirect.com/science/article/...</td>\n",
       "    </tr>\n",
       "    <tr>\n",
       "      <th>13</th>\n",
       "      <td>Assessing the communication gap between AI mod...</td>\n",
       "      <td>Oskar Wysocki, Jessica Katharine Davies and 5 ...</td>\n",
       "      <td>March 2023</td>\n",
       "      <td>https://www.sciencedirect.com/science/article/...</td>\n",
       "    </tr>\n",
       "    <tr>\n",
       "      <th>14</th>\n",
       "      <td>Explaining black-box classifiers using post-ho...</td>\n",
       "      <td>Eoin M. Kenny, Courtney Ford, Molly Quinn, Mar...</td>\n",
       "      <td>May 2021</td>\n",
       "      <td>https://www.sciencedirect.com/science/article/...</td>\n",
       "    </tr>\n",
       "    <tr>\n",
       "      <th>15</th>\n",
       "      <td>The Hanabi challenge: A new frontier for AI re...</td>\n",
       "      <td>Nolan Bard, Jakob N. Foerster and 13 more</td>\n",
       "      <td>March 2020</td>\n",
       "      <td>https://www.sciencedirect.com/science/article/...</td>\n",
       "    </tr>\n",
       "    <tr>\n",
       "      <th>16</th>\n",
       "      <td>Wrappers for feature subset selection</td>\n",
       "      <td>Ron Kohavi, George H. John</td>\n",
       "      <td>December 1997</td>\n",
       "      <td>https://www.sciencedirect.com/science/article/...</td>\n",
       "    </tr>\n",
       "    <tr>\n",
       "      <th>17</th>\n",
       "      <td>Artificial cognition for social human–robot in...</td>\n",
       "      <td>Séverin Lemaignan, Mathieu Warnier and 3 more</td>\n",
       "      <td>June 2017</td>\n",
       "      <td>https://www.sciencedirect.com/science/article/...</td>\n",
       "    </tr>\n",
       "    <tr>\n",
       "      <th>18</th>\n",
       "      <td>A review of possible effects of cognitive bias...</td>\n",
       "      <td>Tomáš Kliegr, Štěpán Bahník, Johannes Fürnkranz</td>\n",
       "      <td>June 2021</td>\n",
       "      <td>https://www.sciencedirect.com/science/article/...</td>\n",
       "    </tr>\n",
       "    <tr>\n",
       "      <th>19</th>\n",
       "      <td>The multifaceted impact of Ada Lovelace in the...</td>\n",
       "      <td>Luigia Carlucci Aiello</td>\n",
       "      <td>June 2016</td>\n",
       "      <td>https://www.sciencedirect.com/science/article/...</td>\n",
       "    </tr>\n",
       "    <tr>\n",
       "      <th>20</th>\n",
       "      <td>Robot ethics: Mapping the issues for a mechani...</td>\n",
       "      <td>Patrick Lin, Keith Abney, George Bekey</td>\n",
       "      <td>April 2011</td>\n",
       "      <td>https://www.sciencedirect.com/science/article/...</td>\n",
       "    </tr>\n",
       "    <tr>\n",
       "      <th>21</th>\n",
       "      <td>Reward (Mis)design for autonomous driving</td>\n",
       "      <td>W. Bradley Knox, Alessandro Allievi and 3 more</td>\n",
       "      <td>March 2023</td>\n",
       "      <td>https://www.sciencedirect.com/science/article/...</td>\n",
       "    </tr>\n",
       "    <tr>\n",
       "      <th>22</th>\n",
       "      <td>Planning and acting in partially observable st...</td>\n",
       "      <td>Leslie Pack Kaelbling, Michael L. Littman, Ant...</td>\n",
       "      <td>May 1998</td>\n",
       "      <td>https://www.sciencedirect.com/science/article/...</td>\n",
       "    </tr>\n",
       "    <tr>\n",
       "      <th>23</th>\n",
       "      <td>What do we want from Explainable Artificial In...</td>\n",
       "      <td>Markus Langer, Daniel Oster and 6 more</td>\n",
       "      <td>July 2021</td>\n",
       "      <td>https://www.sciencedirect.com/science/article/...</td>\n",
       "    </tr>\n",
       "  </tbody>\n",
       "</table>\n",
       "</div>"
      ],
      "text/plain": [
       "                                          Paper Title  \\\n",
       "0                                    Reward is enough   \n",
       "1   Explanation in artificial intelligence: Insigh...   \n",
       "2              Creativity and artificial intelligence   \n",
       "3   Conflict-based search for optimal multi-agent ...   \n",
       "4   Knowledge graphs as tools for explainable mach...   \n",
       "5   Law and logic: A review from an argumentation ...   \n",
       "6   Between MDPs and semi-MDPs: A framework for te...   \n",
       "7   Explaining individual predictions when feature...   \n",
       "8       Multiple object tracking: A literature review   \n",
       "9   A survey of inverse reinforcement learning: Ch...   \n",
       "10  Evaluating XAI: A comparison of rule-based and...   \n",
       "11  Explainable AI tools for legal reasoning about...   \n",
       "12            Hard choices in artificial intelligence   \n",
       "13  Assessing the communication gap between AI mod...   \n",
       "14  Explaining black-box classifiers using post-ho...   \n",
       "15  The Hanabi challenge: A new frontier for AI re...   \n",
       "16              Wrappers for feature subset selection   \n",
       "17  Artificial cognition for social human–robot in...   \n",
       "18  A review of possible effects of cognitive bias...   \n",
       "19  The multifaceted impact of Ada Lovelace in the...   \n",
       "20  Robot ethics: Mapping the issues for a mechani...   \n",
       "21          Reward (Mis)design for autonomous driving   \n",
       "22  Planning and acting in partially observable st...   \n",
       "23  What do we want from Explainable Artificial In...   \n",
       "\n",
       "                                              Authors  Published Date  \\\n",
       "0   David Silver, Satinder Singh, Doina Precup, Ri...    October 2021   \n",
       "1                                         Tim Miller    February 2019   \n",
       "2                                  Margaret A. Boden      August 1998   \n",
       "3   Guni Sharon, Roni Stern, Ariel Felner, Nathan ...   February 2015   \n",
       "4                     Ilaria Tiddi, Stefan Schlobach     January 2022   \n",
       "5                     Henry Prakken, Giovanni Sartor     October 2015   \n",
       "6    Richard S. Sutton, Doina Precup, Satinder Singh      August 1999   \n",
       "7          Kjersti Aas, Martin Jullum, Anders Løland   September 2021   \n",
       "8                Wenhan Luo, Junliang Xing and 4 more      April 2021   \n",
       "9                      Saurabh Arora, Prashant Doshi      August 2021   \n",
       "10  Jasper van der Waa, Elisabeth Nieuwburg, Anita...   February 2021   \n",
       "11  Joe Collenette, Katie Atkinson, Trevor Bench-C...      April 2023   \n",
       "12  Roel Dobbe, Thomas Krendl Gilbert, Yonatan Mintz    November 2021   \n",
       "13  Oskar Wysocki, Jessica Katharine Davies and 5 ...      March 2023   \n",
       "14  Eoin M. Kenny, Courtney Ford, Molly Quinn, Mar...        May 2021   \n",
       "15          Nolan Bard, Jakob N. Foerster and 13 more      March 2020   \n",
       "16                        Ron Kohavi, George H. John    December 1997   \n",
       "17      Séverin Lemaignan, Mathieu Warnier and 3 more       June 2017   \n",
       "18   Tomáš Kliegr, Štěpán Bahník, Johannes Fürnkranz        June 2021   \n",
       "19                            Luigia Carlucci Aiello        June 2016   \n",
       "20            Patrick Lin, Keith Abney, George Bekey       April 2011   \n",
       "21     W. Bradley Knox, Alessandro Allievi and 3 more      March 2023   \n",
       "22  Leslie Pack Kaelbling, Michael L. Littman, Ant...        May 1998   \n",
       "23             Markus Langer, Daniel Oster and 6 more       July 2021   \n",
       "\n",
       "                                            Paper URL  \n",
       "0   https://www.sciencedirect.com/science/article/...  \n",
       "1   https://www.sciencedirect.com/science/article/...  \n",
       "2   https://www.sciencedirect.com/science/article/...  \n",
       "3   https://www.sciencedirect.com/science/article/...  \n",
       "4   https://www.sciencedirect.com/science/article/...  \n",
       "5   https://www.sciencedirect.com/science/article/...  \n",
       "6   https://www.sciencedirect.com/science/article/...  \n",
       "7   https://www.sciencedirect.com/science/article/...  \n",
       "8   https://www.sciencedirect.com/science/article/...  \n",
       "9   https://www.sciencedirect.com/science/article/...  \n",
       "10  https://www.sciencedirect.com/science/article/...  \n",
       "11  https://www.sciencedirect.com/science/article/...  \n",
       "12  https://www.sciencedirect.com/science/article/...  \n",
       "13  https://www.sciencedirect.com/science/article/...  \n",
       "14  https://www.sciencedirect.com/science/article/...  \n",
       "15  https://www.sciencedirect.com/science/article/...  \n",
       "16  https://www.sciencedirect.com/science/article/...  \n",
       "17  https://www.sciencedirect.com/science/article/...  \n",
       "18  https://www.sciencedirect.com/science/article/...  \n",
       "19  https://www.sciencedirect.com/science/article/...  \n",
       "20  https://www.sciencedirect.com/science/article/...  \n",
       "21  https://www.sciencedirect.com/science/article/...  \n",
       "22  https://www.sciencedirect.com/science/article/...  \n",
       "23  https://www.sciencedirect.com/science/article/...  "
      ]
     },
     "execution_count": 56,
     "metadata": {},
     "output_type": "execute_result"
    }
   ],
   "source": [
    "df = pd.DataFrame({'Paper Title': title, 'Authors': author, 'Published Date': date, 'Paper URL': url})\n",
    "df"
   ]
  },
  {
   "cell_type": "markdown",
   "id": "80833470",
   "metadata": {},
   "source": [
    "# Request 7"
   ]
  },
  {
   "cell_type": "code",
   "execution_count": 57,
   "id": "527e80df",
   "metadata": {},
   "outputs": [
    {
     "data": {
      "text/plain": [
       "<Response [200]>"
      ]
     },
     "execution_count": 57,
     "metadata": {},
     "output_type": "execute_result"
    }
   ],
   "source": [
    "page = requests.get('https://www.dineout.co.in/delhi-restaurants/buffet-special') # have to VPN to access page\n",
    "page"
   ]
  },
  {
   "cell_type": "code",
   "execution_count": 58,
   "id": "919f7e56",
   "metadata": {
    "scrolled": false
   },
   "outputs": [
    {
     "data": {
      "text/plain": [
       "[]"
      ]
     },
     "execution_count": 58,
     "metadata": {},
     "output_type": "execute_result"
    }
   ],
   "source": [
    "soup = BeautifulSoup(page.content)\n",
    "\n",
    "name = []\n",
    "\n",
    "for i in soup.find_all('a', class_=\"restnt-name ellipsis\"):\n",
    "    name.append(i.text)"
   ]
  },
  {
   "cell_type": "code",
   "execution_count": 59,
   "id": "ee854e14",
   "metadata": {},
   "outputs": [
    {
     "data": {
      "text/plain": [
       "[]"
      ]
     },
     "execution_count": 59,
     "metadata": {},
     "output_type": "execute_result"
    }
   ],
   "source": [
    "cuisine = []\n",
    "\n",
    "for i in soup.find_all('span', class_='double-line-ellipsis'):\n",
    "    cuisine.append(i.text.split(\"|\")[1])"
   ]
  },
  {
   "cell_type": "code",
   "execution_count": 60,
   "id": "d59d933f",
   "metadata": {},
   "outputs": [
    {
     "data": {
      "text/plain": [
       "[]"
      ]
     },
     "execution_count": 60,
     "metadata": {},
     "output_type": "execute_result"
    }
   ],
   "source": [
    "location = []\n",
    "\n",
    "for i in soup.find_all('div',class_='restnt-loc ellipsis'):\n",
    "    location.append(i.text)"
   ]
  },
  {
   "cell_type": "code",
   "execution_count": 61,
   "id": "1cc8877a",
   "metadata": {},
   "outputs": [
    {
     "data": {
      "text/plain": [
       "[]"
      ]
     },
     "execution_count": 61,
     "metadata": {},
     "output_type": "execute_result"
    }
   ],
   "source": [
    "\n",
    "ratings = []\n",
    "\n",
    "for i in soup.find_all('div', class_='restnt-rating rating-4'):\n",
    "    ratings.append(i.text)"
   ]
  },
  {
   "cell_type": "code",
   "execution_count": 71,
   "id": "89f7aed6",
   "metadata": {},
   "outputs": [],
   "source": [
    "images = []\n",
    "\n",
    "for i in soup.find_all('img',class_='no-img'):\n",
    "    images.append(i.get(\"data-src\"))"
   ]
  },
  {
   "cell_type": "code",
   "execution_count": 72,
   "id": "756e6486",
   "metadata": {},
   "outputs": [
    {
     "name": "stdout",
     "output_type": "stream",
     "text": [
      "0 0 0 0 0\n"
     ]
    }
   ],
   "source": [
    "print(len(name),len(cuisine),len(location),len(ratings),len(images))"
   ]
  },
  {
   "cell_type": "markdown",
   "id": "b4a2766a",
   "metadata": {},
   "source": [
    "# Request 7 Results"
   ]
  },
  {
   "cell_type": "code",
   "execution_count": 73,
   "id": "7f3ef4e7",
   "metadata": {},
   "outputs": [
    {
     "data": {
      "text/html": [
       "<div>\n",
       "<style scoped>\n",
       "    .dataframe tbody tr th:only-of-type {\n",
       "        vertical-align: middle;\n",
       "    }\n",
       "\n",
       "    .dataframe tbody tr th {\n",
       "        vertical-align: top;\n",
       "    }\n",
       "\n",
       "    .dataframe thead th {\n",
       "        text-align: right;\n",
       "    }\n",
       "</style>\n",
       "<table border=\"1\" class=\"dataframe\">\n",
       "  <thead>\n",
       "    <tr style=\"text-align: right;\">\n",
       "      <th></th>\n",
       "      <th>Name</th>\n",
       "      <th>Cuisine</th>\n",
       "      <th>Location</th>\n",
       "      <th>Rating</th>\n",
       "      <th>Image URL</th>\n",
       "    </tr>\n",
       "  </thead>\n",
       "  <tbody>\n",
       "  </tbody>\n",
       "</table>\n",
       "</div>"
      ],
      "text/plain": [
       "Empty DataFrame\n",
       "Columns: [Name, Cuisine, Location, Rating, Image URL]\n",
       "Index: []"
      ]
     },
     "execution_count": 73,
     "metadata": {},
     "output_type": "execute_result"
    }
   ],
   "source": [
    "df = pd.DataFrame({\"Name\":name,\"Cuisine\":cuisine,\"Location\":location,\"Rating\":ratings,\"Image URL\":images})\n",
    "df"
   ]
  },
  {
   "cell_type": "code",
   "execution_count": null,
   "id": "70f85825",
   "metadata": {},
   "outputs": [],
   "source": []
  }
 ],
 "metadata": {
  "kernelspec": {
   "display_name": "Python 3 (ipykernel)",
   "language": "python",
   "name": "python3"
  },
  "language_info": {
   "codemirror_mode": {
    "name": "ipython",
    "version": 3
   },
   "file_extension": ".py",
   "mimetype": "text/x-python",
   "name": "python",
   "nbconvert_exporter": "python",
   "pygments_lexer": "ipython3",
   "version": "3.9.7"
  }
 },
 "nbformat": 4,
 "nbformat_minor": 5
}
